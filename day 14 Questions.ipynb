{
 "cells": [
  {
   "cell_type": "code",
   "execution_count": 1,
   "id": "7177af2e-8bc4-497c-a1eb-ee1be45e7537",
   "metadata": {},
   "outputs": [
    {
     "name": "stdout",
     "output_type": "stream",
     "text": [
      "[15 20 25 30]\n"
     ]
    }
   ],
   "source": [
    "import numpy as np\n",
    "arr = np.array([5,10,15,20])\n",
    "print(arr + 10)"
   ]
  },
  {
   "cell_type": "code",
   "execution_count": 2,
   "id": "dbd38a1b-2c90-4f6e-871c-554f18c73380",
   "metadata": {},
   "outputs": [
    {
     "name": "stdout",
     "output_type": "stream",
     "text": [
      "      Name  Age  Marks Result\n",
      "0    Alice   24     87   Pass\n",
      "1      Bob   25     91   Pass\n",
      "2  Charlie   23     78   Fail\n"
     ]
    }
   ],
   "source": [
    "import pandas as pd\n",
    "dt = {\n",
    "    \"Name\" : [\"Alice\" , \"Bob\" , \"Charlie\"],\n",
    "    \"Age\" : [24,25,23],\n",
    "    \"Marks\" : [87,91,78]\n",
    "}\n",
    "df = pd.DataFrame(dt)\n",
    "df[\"Result\"] = [\"Pass\" , \"Pass\" , \"Fail\"]\n",
    "print(df)\n",
    "\n"
   ]
  },
  {
   "cell_type": "code",
   "execution_count": null,
   "id": "490d7dee-4215-42d3-94d7-04d91cb1f8e4",
   "metadata": {},
   "outputs": [],
   "source": []
  }
 ],
 "metadata": {
  "kernelspec": {
   "display_name": "Python 3 (ipykernel)",
   "language": "python",
   "name": "python3"
  },
  "language_info": {
   "codemirror_mode": {
    "name": "ipython",
    "version": 3
   },
   "file_extension": ".py",
   "mimetype": "text/x-python",
   "name": "python",
   "nbconvert_exporter": "python",
   "pygments_lexer": "ipython3",
   "version": "3.13.5"
  }
 },
 "nbformat": 4,
 "nbformat_minor": 5
}
