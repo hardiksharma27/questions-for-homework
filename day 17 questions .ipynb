{
 "cells": [
  {
   "cell_type": "code",
   "execution_count": 18,
   "id": "96b9ae55-312c-4852-9576-d6b8c86cbb2f",
   "metadata": {},
   "outputs": [
    {
     "name": "stdout",
     "output_type": "stream",
     "text": [
      "0.45\n",
      "Gender Female\n"
     ]
    }
   ],
   "source": [
    "import pandas as pd\n",
    "har = pd.read_csv(r\"C:\\Users\\DELL\\Downloads\\fitness_subscribe_knn.csv\")\n",
    "\n",
    "from sklearn.preprocessing import LabelEncoder\n",
    "le_fitness = LabelEncoder()\n",
    "le_Diet = LabelEncoder()\n",
    "le_gender = LabelEncoder()\n",
    "har[\"Fitness_Level\"] = le_fitness.fit_transform(har[\"Fitness_Level\"])\n",
    "har[\"Diet\"] = le_fitness.fit_transform(har[\"Diet\"])\n",
    "har[\"Gender\"] = le_fitness.fit_transform(har[\"Gender\"])\n",
    "X = har[['Age', 'Fitness_Level', 'Diet', 'Will_Subscribe']] \n",
    "y = har['Gender']                  \n",
    "\n",
    "from sklearn.model_selection import train_test_split\n",
    "X_train, X_test, y_train, y_test = train_test_split(X,y,test_size=0.2,random_state=1)\n",
    "\n",
    "from sklearn.linear_model import LogisticRegression\n",
    "model = LogisticRegression()\n",
    "model.fit(X_train,y_train)\n",
    "\n",
    "y_predict = model.predict(X_test)\n",
    "\n",
    "from sklearn.metrics import  accuracy_score\n",
    "accuracy = accuracy_score(y_test,y_predict)\n",
    "print(accuracy)\n",
    "\n",
    "test_user = pd.DataFrame([[28,1,1,0]], columns=[\"Age\",\"Fitness_Level\",\"Diet\", \"Will_Subscribe\"])\n",
    "test_user\n",
    "prediction = model.predict(test_user)\n",
    "print(\"Gender\" , \"Male\" if prediction==1 else \"Female\")\n",
    "\n"
   ]
  },
  {
   "cell_type": "code",
   "execution_count": null,
   "id": "bcfb4a88-11ce-4cdf-8959-bfbc07da7971",
   "metadata": {},
   "outputs": [],
   "source": []
  }
 ],
 "metadata": {
  "kernelspec": {
   "display_name": "Python 3 (ipykernel)",
   "language": "python",
   "name": "python3"
  },
  "language_info": {
   "codemirror_mode": {
    "name": "ipython",
    "version": 3
   },
   "file_extension": ".py",
   "mimetype": "text/x-python",
   "name": "python",
   "nbconvert_exporter": "python",
   "pygments_lexer": "ipython3",
   "version": "3.13.5"
  }
 },
 "nbformat": 4,
 "nbformat_minor": 5
}
